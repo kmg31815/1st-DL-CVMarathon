{
 "cells": [
  {
   "cell_type": "markdown",
   "metadata": {},
   "source": [
    "# Python 下載XML檔案與解析\n",
    "\n",
    "\n",
    "* 了解 xml 檔案格式與內容\n",
    "* 能夠利用套件存取 xml 格式的檔案\n"
   ]
  },
  {
   "cell_type": "markdown",
   "metadata": {},
   "source": [
    "## 作業目標\n",
    "\n",
    "* 比較一下範例檔案中的「File I/O」與「xmltodict」讀出來的內容有什麼差異\n",
    "\n",
    "* 根據範例檔案的結果：\n",
    "    1. 請問高雄市有多少地區有溫度資料？\n",
    "    2. 請取出每一個地區所記錄的第一個時間點跟溫度\n",
    "    3. 請取出第一個地區所記錄的每一個時間點跟溫度"
   ]
  },
  {
   "cell_type": "markdown",
   "metadata": {},
   "source": [
    "### 比較一下範例檔案中的「File I/O」與「xmltodict」讀出來的內容有什麼差異\n"
   ]
  },
  {
   "cell_type": "code",
   "execution_count": 84,
   "metadata": {},
   "outputs": [],
   "source": [
    "#下載 zip檔\n",
    "import urllib.request\n",
    "import zipfile\n",
    "\n",
    "res = \"http://opendata.cwb.gov.tw/govdownload?dataid=F-D0047-093&authorizationkey=rdec-key-123-45678-011121314\"\n",
    "urllib.request.urlretrieve(res, \"./Data/example.zip\")\n",
    "\n",
    "# 解壓縮\n",
    "f = zipfile.ZipFile('./Data/example.zip')\n",
    "f.extractall('./Data')\n",
    "\n",
    "\n",
    "# File I/O 讀檔案\n",
    "fh = open(\"./data/64_72hr_CH.xml\", \"r\", encoding=\"utf-8\")\n",
    "xml = fh.read()\n",
    "fh.close()\n",
    "\n",
    "print(xml)\n",
    "\n",
    "# xmltodict 讀檔案\n",
    "import xmltodict\n",
    "\n",
    "# d = dict(xmltodict.parse(xml))\n",
    "# datasetDescription = d['cwbopendata']['dataset']['datasetInfo']['datasetDescription']\n",
    "# print(d)\n",
    "# print(datasetDescription)\n",
    "with open('./data/64_72hr_CH.xml', encoding=\"utf-8\") as fd:\n",
    "    doc = dict(xmltodict.parse(fd.read()))\n",
    "\n",
    "print(doc)\n",
    "\n",
    "# File I/O 讀出來的是 xml檔案格式\n",
    "# xmltodict 讀出來的是 JSON 檔案格式"
   ]
  },
  {
   "cell_type": "markdown",
   "metadata": {},
   "source": [
    "### 根據範例檔案的結果：\n",
    "\n",
    "1. 請問高雄市有多少地區有溫度資料？\n",
    "2. 請取出每一個地區所記錄的第一個時間點跟溫度\n",
    "3. 請取出第一個地區所記錄的每一個時間點跟溫度"
   ]
  },
  {
   "cell_type": "code",
   "execution_count": 57,
   "metadata": {},
   "outputs": [
    {
     "name": "stdout",
     "output_type": "stream",
     "text": [
      "38\n"
     ]
    }
   ],
   "source": [
    "# 1. 請問高雄市有多少地區有溫度資料？\n",
    "import xmltodict\n",
    "\n",
    "with open('./data/64_72hr_CH.xml', encoding=\"utf-8\") as tw:\n",
    "    doc = dict(xmltodict.parse(tw.read()))\n",
    "\n",
    "areas = len(doc['cwbopendata']['dataset']['locations']['location'])\n",
    "\n",
    "print(areas)"
   ]
  },
  {
   "cell_type": "code",
   "execution_count": 83,
   "metadata": {},
   "outputs": [
    {
     "name": "stdout",
     "output_type": "stream",
     "text": [
      "鹽埕區 2020-02-27T18:00:00+08:00 24\n",
      "鼓山區 2020-02-27T18:00:00+08:00 24\n",
      "左營區 2020-02-27T18:00:00+08:00 24\n",
      "楠梓區 2020-02-27T18:00:00+08:00 25\n",
      "三民區 2020-02-27T18:00:00+08:00 24\n",
      "新興區 2020-02-27T18:00:00+08:00 24\n",
      "前金區 2020-02-27T18:00:00+08:00 24\n",
      "苓雅區 2020-02-27T18:00:00+08:00 24\n",
      "前鎮區 2020-02-27T18:00:00+08:00 24\n",
      "旗津區 2020-02-27T18:00:00+08:00 24\n",
      "小港區 2020-02-27T18:00:00+08:00 24\n",
      "鳳山區 2020-02-27T18:00:00+08:00 24\n",
      "林園區 2020-02-27T18:00:00+08:00 24\n",
      "大寮區 2020-02-27T18:00:00+08:00 24\n",
      "大樹區 2020-02-27T18:00:00+08:00 25\n",
      "大社區 2020-02-27T18:00:00+08:00 25\n",
      "仁武區 2020-02-27T18:00:00+08:00 24\n",
      "鳥松區 2020-02-27T18:00:00+08:00 24\n",
      "岡山區 2020-02-27T18:00:00+08:00 24\n",
      "橋頭區 2020-02-27T18:00:00+08:00 25\n",
      "燕巢區 2020-02-27T18:00:00+08:00 24\n",
      "田寮區 2020-02-27T18:00:00+08:00 23\n",
      "阿蓮區 2020-02-27T18:00:00+08:00 24\n",
      "路竹區 2020-02-27T18:00:00+08:00 25\n",
      "湖內區 2020-02-27T18:00:00+08:00 24\n",
      "茄萣區 2020-02-27T18:00:00+08:00 23\n",
      "永安區 2020-02-27T18:00:00+08:00 23\n",
      "彌陀區 2020-02-27T18:00:00+08:00 24\n",
      "梓官區 2020-02-27T18:00:00+08:00 24\n",
      "旗山區 2020-02-27T18:00:00+08:00 24\n",
      "美濃區 2020-02-27T18:00:00+08:00 24\n",
      "六龜區 2020-02-27T18:00:00+08:00 22\n",
      "甲仙區 2020-02-27T18:00:00+08:00 22\n",
      "杉林區 2020-02-27T18:00:00+08:00 23\n",
      "內門區 2020-02-27T18:00:00+08:00 23\n",
      "茂林區 2020-02-27T18:00:00+08:00 21\n",
      "桃源區 2020-02-27T18:00:00+08:00 20\n",
      "那瑪夏區 2020-02-27T18:00:00+08:00 18\n"
     ]
    }
   ],
   "source": [
    "# 2. 請取出每一個地區所記錄的第一個時間點跟溫度\n",
    "\n",
    "import xmltodict\n",
    "\n",
    "with open('./data/64_72hr_CH.xml', encoding=\"utf-8\") as tw:\n",
    "    doc = dict(xmltodict.parse(tw.read()))\n",
    "\n",
    "n = len(doc['cwbopendata']['dataset']['locations']['location'])\n",
    "\n",
    "for i in range(n):\n",
    "    areas1 = doc['cwbopendata']['dataset']['locations']['location'][i]['locationName']\n",
    "    areas2 = doc['cwbopendata']['dataset']['locations']['location'][i]['weatherElement'][0]['time'][0]['dataTime']\n",
    "    areas3 = doc['cwbopendata']['dataset']['locations']['location'][i]['weatherElement'][0]['time'][0]['elementValue']['value']\n",
    "    print(areas1,areas2,areas3)"
   ]
  },
  {
   "cell_type": "code",
   "execution_count": 78,
   "metadata": {},
   "outputs": [
    {
     "name": "stdout",
     "output_type": "stream",
     "text": [
      "2020-02-27T18:00:00+08:00 \n",
      "溫度: 24\n",
      "2020-02-27T21:00:00+08:00 \n",
      "溫度: 23\n",
      "2020-02-28T00:00:00+08:00 \n",
      "溫度: 22\n",
      "2020-02-28T03:00:00+08:00 \n",
      "溫度: 21\n",
      "2020-02-28T06:00:00+08:00 \n",
      "溫度: 21\n",
      "2020-02-28T09:00:00+08:00 \n",
      "溫度: 22\n",
      "2020-02-28T12:00:00+08:00 \n",
      "溫度: 26\n",
      "2020-02-28T15:00:00+08:00 \n",
      "溫度: 26\n",
      "2020-02-28T18:00:00+08:00 \n",
      "溫度: 25\n",
      "2020-02-28T21:00:00+08:00 \n",
      "溫度: 24\n",
      "2020-02-29T00:00:00+08:00 \n",
      "溫度: 23\n",
      "2020-02-29T03:00:00+08:00 \n",
      "溫度: 22\n",
      "2020-02-29T06:00:00+08:00 \n",
      "溫度: 22\n",
      "2020-02-29T09:00:00+08:00 \n",
      "溫度: 23\n",
      "2020-02-29T12:00:00+08:00 \n",
      "溫度: 28\n",
      "2020-02-29T15:00:00+08:00 \n",
      "溫度: 29\n",
      "2020-02-29T18:00:00+08:00 \n",
      "溫度: 28\n",
      "2020-02-29T21:00:00+08:00 \n",
      "溫度: 26\n",
      "2020-03-01T00:00:00+08:00 \n",
      "溫度: 25\n",
      "2020-03-01T03:00:00+08:00 \n",
      "溫度: 24\n",
      "2020-03-01T06:00:00+08:00 \n",
      "溫度: 24\n",
      "2020-03-01T09:00:00+08:00 \n",
      "溫度: 26\n",
      "2020-03-01T12:00:00+08:00 \n",
      "溫度: 29\n",
      "2020-03-01T15:00:00+08:00 \n",
      "溫度: 29\n"
     ]
    }
   ],
   "source": [
    "# 3. 請取出第一個地區所記錄的每一個時間點跟溫度\n",
    "\n",
    "import xmltodict\n",
    "\n",
    "with open('./data/64_72hr_CH.xml', encoding=\"utf-8\") as tw:\n",
    "    doc = dict(xmltodict.parse(tw.read()))\n",
    "\n",
    "n = len(doc['cwbopendata']['dataset']['locations']['location'][0]['weatherElement'][0]['time'])\n",
    "\n",
    "for i in range(n):\n",
    "    data1 = doc['cwbopendata']['dataset']['locations']['location'][0]['weatherElement'][0]['time'][i]['dataTime']\n",
    "    data2 = doc['cwbopendata']['dataset']['locations']['location'][0]['weatherElement'][0]['time'][i]['elementValue']['value']\n",
    "    print(data1,\"\\n溫度:\",data2)"
   ]
  },
  {
   "cell_type": "code",
   "execution_count": null,
   "metadata": {},
   "outputs": [],
   "source": []
  }
 ],
 "metadata": {
  "kernelspec": {
   "display_name": "Python 3",
   "language": "python",
   "name": "python3"
  },
  "language_info": {
   "codemirror_mode": {
    "name": "ipython",
    "version": 3
   },
   "file_extension": ".py",
   "mimetype": "text/x-python",
   "name": "python",
   "nbconvert_exporter": "python",
   "pygments_lexer": "ipython3",
   "version": "3.7.3"
  }
 },
 "nbformat": 4,
 "nbformat_minor": 4
}
