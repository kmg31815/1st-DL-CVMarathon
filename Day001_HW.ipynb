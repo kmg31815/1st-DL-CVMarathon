{
 "cells": [
  {
   "cell_type": "code",
   "execution_count": 7,
   "metadata": {},
   "outputs": [
    {
     "name": "stdout",
     "output_type": "stream",
     "text": [
      "[O]\n",
      "[O]\n"
     ]
    }
   ],
   "source": [
    "from urllib.request import urlretrieve\n",
    "import os\n",
    "\n",
    "# 下載檔案到 Data 資料夾，存成檔名 Homework.txt\n",
    "try:\n",
    "    os.makedirs( './Data', exist_ok=True )\n",
    "    urlretrieve (\"https://www.w3.org/TR/PNG/iso_8859-1.txt\", \"./data/Homework.txt\")\n",
    "except:\n",
    "    print('發生錯誤！')\n",
    "\n",
    "# 檢查 Data 資料夾是否有 Homework.txt 檔名之檔案\n",
    "files = []\n",
    "files = os.listdir(\"./Data\")\n",
    "# print(files)\n",
    "\n",
    "if 'Homework.txt' in files:\n",
    "    print('[O]')\n",
    "else:\n",
    "    print('[X]')\n",
    "\n",
    "# 將「Hello World」字串覆寫到 Homework.txt 檔案\n",
    "f = ''\n",
    "\n",
    "with open(\"./Data/Homework.txt\", \"w\") as fh:\n",
    "    fh.write(\"Hello World\")\n",
    "\n",
    "try:\n",
    "    with open(\"./Data/Homework.txt\", \"r\") as fh:\n",
    "        f = fh.read()\n",
    "except EnvironmentError:\n",
    "    pass\n",
    "\n",
    "# 檢查 Homework.txt 檔案字數是否符合 Hello World 字數\n",
    "if len('Hello World') == len(f):\n",
    "    print('[O]')\n",
    "else:\n",
    "    print('[X]')"
   ]
  },
  {
   "cell_type": "code",
   "execution_count": null,
   "metadata": {},
   "outputs": [],
   "source": []
  }
 ],
 "metadata": {
  "kernelspec": {
   "display_name": "Python 3",
   "language": "python",
   "name": "python3"
  },
  "language_info": {
   "codemirror_mode": {
    "name": "ipython",
    "version": 3
   },
   "file_extension": ".py",
   "mimetype": "text/x-python",
   "name": "python",
   "nbconvert_exporter": "python",
   "pygments_lexer": "ipython3",
   "version": "3.7.3"
  }
 },
 "nbformat": 4,
 "nbformat_minor": 4
}
