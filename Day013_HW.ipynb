{
 "cells": [
  {
   "cell_type": "markdown",
   "metadata": {},
   "source": [
    "# PTT 網路爬蟲實作練習\n",
    "\n",
    "\n",
    "* 能夠利用 Request + BeatifulSour 撰寫爬蟲，並存放到合適的資料結構\n"
   ]
  },
  {
   "cell_type": "markdown",
   "metadata": {},
   "source": [
    "## 作業目標\n",
    "\n",
    "根據範例 ，完成以下問題：\n",
    "\n",
    "* ① 印出最新文章的「作者」「標題」「時間」\n",
    "* ② 印出第一頁所有文章的「作者」「標題」「時間」\n"
   ]
  },
  {
   "cell_type": "markdown",
   "metadata": {},
   "source": [
    "### ① 印出最新文章的「作者」「標題」「時間」"
   ]
  },
  {
   "cell_type": "code",
   "execution_count": 17,
   "metadata": {},
   "outputs": [
    {
     "name": "stdout",
     "output_type": "stream",
     "text": [
      "[討論] 13年和14年馬刺熱火決賽\n",
      "作者: kartg123456 (highflyball)\n",
      "時間: Sun Mar 22 00:20:25 2020\n",
      "\n"
     ]
    }
   ],
   "source": [
    "import requests\n",
    "from bs4 import BeautifulSoup\n",
    "\n",
    "url = 'https://www.ptt.cc/bbs/NBA/index.html'\n",
    "r = requests.get(url)\n",
    "soup = BeautifulSoup(r.text, \"html5lib\")\n",
    "\n",
    "for d in soup.find_all(class_=\"title\"):\n",
    "    print(d.text.replace('\\t', '').replace('\\n', ''))\n",
    "    try:\n",
    "        r = BeautifulSoup(requests.get('https://www.ptt.cc'+d.find('a')['href']).text, \"html5lib\")\n",
    "#         print(r.find_all(class_='article-meta-value'))\n",
    "        print('作者: ' + r.find_all(class_='article-meta-value')[0].text)\n",
    "        print('時間: ' + r.find_all(class_='article-meta-value')[3].text+'\\n')\n",
    "        break\n",
    "    except:\n",
    "        continue"
   ]
  },
  {
   "cell_type": "markdown",
   "metadata": {},
   "source": [
    "### ② 印出第一頁所有文章的「作者」「標題」「時間」"
   ]
  },
  {
   "cell_type": "code",
   "execution_count": 16,
   "metadata": {},
   "outputs": [
    {
     "name": "stdout",
     "output_type": "stream",
     "text": [
      "[討論] 13年和14年馬刺熱火決賽\n",
      "作者: kartg123456 (highflyball)\n",
      "時間: Sun Mar 22 00:20:25 2020\n",
      "\n",
      "[討論] Reddit今日熱門:Zion看起來像Toothless嗎\n",
      "作者: pneumo (超☆冒險蓋)\n",
      "時間: Sun Mar 22 00:22:46 2020\n",
      "\n",
      "[花邊] 義大利死亡數創新高 馬刺射手：像電影\n",
      "作者: lvntrs59 (瘋狂阿胖)\n",
      "時間: Sun Mar 22 00:52:09 2020\n",
      "\n",
      "[情報] NBA官方正重播Lillard 0.9秒絕殺火箭賽事\n",
      "作者: love1500274 (CoWuCoWu)\n",
      "時間: Sun Mar 22 04:56:02 2020\n",
      "\n",
      "[新聞] 不滿川普疫情態度 勇士教頭推特對總統開\n",
      "作者: kikiqq514 (翔楓寶寶)\n",
      "時間: Sun Mar 22 07:54:44 2020\n",
      "\n",
      "[花邊] 鄧肯自掏腰包 協助維京群島學生返家\n",
      "作者: jjeffrey1015 (frey)\n",
      "時間: Sun Mar 22 10:54:13 2020\n",
      "\n",
      "[花邊]詹姆斯：訓練過後準備上樓洗澡,岳母叫住我\n",
      "作者: PttGod (PttGod)\n",
      "時間: Sun Mar 22 11:04:45 2020\n",
      "\n",
      "[討論]  史上排名前五的射手投藍姿勢\n",
      "作者: fan800509 (能不能給我一首歌的時間)\n",
      "時間: Sun Mar 22 14:35:57 2020\n",
      "\n",
      "Re: [討論]  史上排名前五的射手投藍姿勢\n",
      "作者: justgetup (gonna fight)\n",
      "時間: Sun Mar 22 15:52:42 2020\n",
      "\n",
      "[花邊] Jamal Murray 上推特熱門\n",
      "作者: gondou (共鬪)\n",
      "時間: Sun Mar 22 16:18:48 2020\n",
      "\n",
      "[情報] Jamal Murray IG帳號被盜\n",
      "作者: Superman007 ()\n",
      "時間: Sun Mar 22 16:51:27 2020\n",
      "\n",
      "Re: [花邊] Jamal Murray 上推特熱門\n",
      "作者: Bainite (黑羽毛 ┐(′д`)┌)\n",
      "時間: Sun Mar 22 17:18:58 2020\n",
      "\n",
      "Re: [討論]  史上排名前五的射手投藍姿勢\n",
      "作者: godispower (親愛的 .別鬧了)\n",
      "時間: Sun Mar 22 17:49:57 2020\n",
      "\n",
      "[花邊] 為新球季做準備  勇士管理層：盼選即戰力\n",
      "作者: thnlkj0665 (灰色地帶)\n",
      "時間: Sun Mar 22 18:39:55 2020\n",
      "\n",
      "[公告] 板規v6.8\n",
      "[公告] 版主上任相關事項 \n",
      "作者: qazwsx879345 (Rajon Rondo)\n",
      "時間: Fri Oct 25 10:44:03 2019\n",
      "\n",
      "[情報] SEASON Schedule 賽程 March 19–20\n",
      "作者: Acetoxy (阿斯)\n",
      "時間: Mon Mar  2 01:19:40 2020\n",
      "\n",
      "[公告] 第一次被退文，可在三天後刪除退文\n",
      "作者: Vedan (味丹)\n",
      "時間: Mon Mar  9 11:44:26 2020\n",
      "\n"
     ]
    }
   ],
   "source": [
    "for d in soup.find_all(class_=\"title\"):\n",
    "    print(d.text.replace('\\t', '').replace('\\n', ''))\n",
    "    try:\n",
    "        r = BeautifulSoup(requests.get('https://www.ptt.cc'+d.find('a')['href']).text, \"html5lib\")\n",
    "#         print(r.find_all(class_='article-meta-value'))\n",
    "        print('作者: ' + r.find_all(class_='article-meta-value')[0].text)\n",
    "        print('時間: ' + r.find_all(class_='article-meta-value')[3].text+'\\n')\n",
    "    except:\n",
    "        continue"
   ]
  },
  {
   "cell_type": "markdown",
   "metadata": {},
   "source": [
    "### ③ 試著爬爬看其他版的文章"
   ]
  },
  {
   "cell_type": "code",
   "execution_count": 18,
   "metadata": {},
   "outputs": [
    {
     "name": "stdout",
     "output_type": "stream",
     "text": [
      "[食記] 彰化 六扇門時尚鍋物\n",
      "作者: gochi2100 (魏朱吃吃，餵豬吃吃)\n",
      "時間: Sun Mar 22 07:41:22 2020\n",
      "\n",
      "[食記] 彰化和美 小ㄚ姨蔬食\n",
      "作者: gochi2100 (魏朱吃吃，餵豬吃吃)\n",
      "時間: Sun Mar 22 07:45:20 2020\n",
      "\n",
      "[食記] 台北 臭老闆現蒸臭豆腐\n",
      "作者: roger31311 (Roger)\n",
      "時間: Sun Mar 22 11:04:21 2020\n",
      "\n",
      "[食記] 台北行天宮排隊美食 不老客家傳統麻糬\n",
      "作者: dong1104 (東蛙)\n",
      "時間: Sun Mar 22 12:06:43 2020\n",
      "\n",
      "[廣宣] 台北大安—酒鈅酒｜低溫舒肥調酒 東西方與摩登復古的揉合\n",
      "作者: shinyban (甩尼班)\n",
      "時間: Sun Mar 22 13:39:42 2020\n",
      "\n",
      "[食記] 台北 心地日常-蔣雅文的店！推抹茶雪花冰\n",
      "作者: tiantian27 (teresa)\n",
      "時間: Sun Mar 22 13:46:22 2020\n",
      "\n",
      "Fw: [食記] 名古屋、新大阪、岡山車站三鐵道便當分享\n",
      "作者: snwijck (劍隨風行)\n",
      "時間: Sun Mar 22 14:14:42 2020\n",
      "\n",
      "[食記] 台南 南瓜餐桌-清爽細緻的鄉村義式料理\n",
      "作者: kellyku (凱莉古)\n",
      "時間: Sun Mar 22 14:31:34 2020\n",
      "\n",
      "[食記] 新竹東區 史坦利美式牛排新竹店-排餐\n",
      "作者: triccsegg (歡迎來我的Blog)\n",
      "時間: Sun Mar 22 14:54:43 2020\n",
      "\n",
      "[食記][台北市] 德州美墨炸雞 天母總店\n",
      "作者: JeremyKSKGA (Jeremy以食為天)\n",
      "時間: Sun Mar 22 15:28:19 2020\n",
      "\n",
      "[食記] 高雄 small萱大學店 濃厚系牛奶鍋\n",
      "作者: pink02 ()\n",
      "時間: Sun Mar 22 15:28:26 2020\n",
      "\n",
      "[食記] 東京米其林二星:初音鮨-歡樂滿點頂級壽司\n",
      "作者: yoshyou (吃漢老黃)\n",
      "時間: Sun Mar 22 18:07:46 2020\n",
      "\n",
      "[食記] 新北 山波Simple 那個迷人的空間和甜點\n",
      "作者: happy520 (快樂我愛你)\n",
      "時間: Sun Mar 22 19:08:50 2020\n",
      "\n",
      "[食記] 台北 丰禾日麗台式小館｜八方鴻運丰盛宴\n",
      "作者: z24518261 (阿君)\n",
      "時間: Sun Mar 22 19:16:50 2020\n",
      "\n",
      "[食記] 台北信義安和安靜咖啡廳Congrats Cafe\n",
      "作者: fussy (新開始！)\n",
      "時間: Sun Mar 22 20:36:43 2020\n",
      "\n",
      "[食記] 桃園市桃園區 靴子義大利餐館\n",
      "作者: womandddd (Be Myself)\n",
      "時間: Sun Mar 22 20:40:38 2020\n",
      "\n",
      "[食記] 高雄美術館 仲 鐵板燒 超好吃的香煎鴨肝\n",
      "作者: kamgx58 (壽司羊)\n",
      "時間: Sun Mar 22 20:43:52 2020\n",
      "\n",
      "[食記] 台北 永康街 肉球森林 狐獴 主題餐廳\n",
      "作者: Skylar (Ryan)\n",
      "時間: Sun Mar 22 20:53:35 2020\n",
      "\n",
      "[食記] 基隆市信義區深美國小對面-雞木雞蛋糕\n",
      "作者: fatlee (fatlee)\n",
      "時間: Sun Mar 22 21:01:23 2020\n",
      "\n",
      "[公告] Food板 板規 V3.91\n",
      "作者: Dilbert (寧靜致遠)\n",
      "時間: Sun Dec 16 23:59:37 2012\n",
      "\n",
      "[公告] 發文請在標題加上地區及提供地址電話。^^\n",
      "作者: bluefish (夏日假期。)\n",
      "時間: Fri Sep 28 09:53:44 2007\n",
      "\n",
      "[公告] 文章被刪除者請洽精華區的資源回收桶\n",
      "作者: Dilbert (嘻)\n",
      "時間: Sat Oct  1 12:17:05 2005\n",
      "\n",
      "[公告] 新增板規22：發文禁附延伸閱讀連結\n",
      "作者: Dilbert (無所住而生其心)\n",
      "時間: Sun Jun  4 07:27:45 2017\n",
      "\n"
     ]
    }
   ],
   "source": [
    "url = 'https://www.ptt.cc/bbs/Food/index.html'\n",
    "r = requests.get(url)\n",
    "soup = BeautifulSoup(r.text, \"html5lib\")\n",
    "\n",
    "for d in soup.find_all(class_=\"title\"):\n",
    "    print(d.text.replace('\\t', '').replace('\\n', ''))\n",
    "    try:\n",
    "        r = BeautifulSoup(requests.get('https://www.ptt.cc'+d.find('a')['href']).text, \"html5lib\")\n",
    "        print('作者: ' + r.find_all(class_='article-meta-value')[0].text)\n",
    "        print('時間: ' + r.find_all(class_='article-meta-value')[3].text+'\\n')\n",
    "    except:\n",
    "        continue"
   ]
  },
  {
   "cell_type": "code",
   "execution_count": null,
   "metadata": {},
   "outputs": [],
   "source": []
  }
 ],
 "metadata": {
  "kernelspec": {
   "display_name": "Python 3",
   "language": "python",
   "name": "python3"
  },
  "language_info": {
   "codemirror_mode": {
    "name": "ipython",
    "version": 3
   },
   "file_extension": ".py",
   "mimetype": "text/x-python",
   "name": "python",
   "nbconvert_exporter": "python",
   "pygments_lexer": "ipython3",
   "version": "3.7.3"
  }
 },
 "nbformat": 4,
 "nbformat_minor": 4
}
